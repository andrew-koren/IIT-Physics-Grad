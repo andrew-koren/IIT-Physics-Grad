{
 "cells": [
  {
   "cell_type": "markdown",
   "id": "44a3d13d",
   "metadata": {},
   "source": [
    "----\n",
    "8/20/25"
   ]
  },
  {
   "cell_type": "markdown",
   "id": "a05a5b45",
   "metadata": {},
   "source": [
    "<!-- $$\n",
    "\\mathbb{C} \n",
    "\\mathcal{C}\n",
    "\\mathscr{C}\n",
    "\\mathfrak{C}\n",
    "$$ -->\n",
    "Braket notation\n",
    "$\n",
    "\\ket{\\alpha,\\beta} = \\alpha \\ket{0} + \\beta \\ket{1} \\\\\n",
    "|\\alpha|^2 + |\\beta^2| = 1\n",
    "$ <br>\n",
    "$\\vec \\sigma$ Pauli matricies <br>\n",
    "$\n",
    "\\sigma_x = \\begin{pmatrix} 0 & 1 \\\\ 1 & 0 \\end{pmatrix}\n",
    "\\sigma_y = \\begin{pmatrix} 0 & -i \\\\ i & 0 \\end{pmatrix}\n",
    "\\sigma_z = \\begin{pmatrix} 1 & 0 \\\\ 0 & -1 \\end{pmatrix}\n",
    "$\n",
    "Note, these are the pauli matricies when $z$ is orthogonal\n",
    "\n",
    "Normal vector dot product? $\\sigma$ is a tensor?\n",
    "$$\n",
    "\\begin{align*}\n",
    "&\\vec n = (\\cos\\phi\\sin\\theta,\\sin\\phi\\sin\\theta,\\cos\\theta)\\\\\n",
    "&\\vec \\sigma \\cdot \\vec n =\n",
    "\\begin{pmatrix} 0 & 1 \\\\ 1 & 0 \\end{pmatrix} \\cos \\phi \\sin \\theta + \n",
    "\\begin{pmatrix} 0 & -i \\\\ i & 0 \\end{pmatrix} \\sin\\phi \\sin\\theta +\n",
    "\\begin{pmatrix} 1 & 0 \\\\ 0 & -1 \\end{pmatrix} \\cos \\theta \\\\\n",
    "&= \\begin{pmatrix} \\cos \\theta & (\\cos \\phi - i \\sin \\phi) \\sin \\theta \\\\ (\\cos \\phi + i \\sin \\phi)\\sin\\theta & -\\cos \\theta \\end{pmatrix}\n",
    "\\end{align*}\n",
    "$$\n",
    "Diagonalize of course\n",
    "$$\n",
    "\\lambda^2 - \\cos^2 \\theta - \\sin^2 \\theta = 0 \\\\\n",
    "\\lambda = \\pm 1\n",
    "$$\n",
    "Eigenvectors\n",
    "$$\n",
    "\\cos \\phi - i \\sin \\phi = e^{i\\phi } \\\\\n",
    "\\begin{pmatrix} \\cos \\theta - 1 & e^{i\\phi}\\sin \\theta  \\\\ e^{i\\phi}\\sin\\theta & -\\cos \\theta - 1\\end{pmatrix} \\ket{\\alpha,\\beta} = 0 \\\\\n",
    "\\alpha(\\cos \\theta -1) + \\beta e^{-i\\phi} \\sin \\theta = 0 \\\\\n",
    "\\alpha(e^{i\\phi}\\sin \\theta) - \\beta \\cos \\theta - 1 = 0 \\\\\n",
    "\\rightarrow \\alpha = \\cos \\frac{\\theta}{2} \\\\\n",
    "\\rightarrow \\beta = e^{i\\phi} \\sin \\frac{\\theta}{2}\n",
    "$$\n",
    "\n",
    "What if we use x as the $\\ket{1}$ state? The conversion from $\\psi$ to $\\chi$ is\n",
    "\n",
    "$$\n",
    "\\ket \\chi = \\cos \\frac{\\pi - \\theta}{2}\\ket 0 + e^{i(\\phi + \\pi)} \\sin \\frac{\\pi-\\theta}{2} \\ket 1 \\\\\n",
    "\\braket{\\chi|\\psi} = \\dots = 0 \\textmd{ independent of angle}\n",
    "$$\n",
    "\n",
    "Why use $\\psi$ and not $\\chi$? I guess we'll see. "
   ]
  },
  {
   "cell_type": "markdown",
   "id": "bfb264a3",
   "metadata": {},
   "source": [
    "Unit matrix $A = \\ket 0 \\bra 0 + \\ket 1 \\bra 1 $\n",
    "\n",
    "$$\n",
    "A \\ket 0 = \\ket 0 \\\\\n",
    "A \\ket 1 = \\ket 1 \\\\\n",
    "A = \\begin{pmatrix} 1 & 0 \\\\ 0 & 0 \\end{pmatrix}\n",
    "+ \\begin{pmatrix} 0 & 0 \\\\ 0 & 1 \\end{pmatrix}\n",
    "= \\begin{pmatrix} 1 & 0 \\\\ 0 & 1 \\end{pmatrix}\n",
    "$$\n",
    "\n",
    "Hadamard basis\n",
    "$$\n",
    "\\ket{0} = \\frac{1}{\\sqrt 2} \\begin{pmatrix} 1 \\\\ 1 \\end{pmatrix} \\\\\n",
    "\\ket{1} = \\frac{1}{\\sqrt 2} \\begin{pmatrix} 1 \\\\ -1 \\end{pmatrix} \\\\\n",
    "$$\n",
    "This has the \"same\" unit matrix\n",
    "$$\n",
    "A = \\frac{1}{\\sqrt 2} \\begin{pmatrix} 1 \\\\  1 \\end{pmatrix}\n",
    "    \\frac{1}{\\sqrt 2} \\begin{pmatrix} 1 &&  1 \\end{pmatrix} + \n",
    "    \\frac{1}{\\sqrt 2} \\begin{pmatrix} 1 \\\\ -1 \\end{pmatrix}\n",
    "    \\frac{1}{\\sqrt 2} \\begin{pmatrix} 1 && -1 \\end{pmatrix} \\\\\n",
    "    = \\begin{pmatrix} 1 & 0 \\\\ 0 & 1 \\end{pmatrix}\n",
    "$$\n",
    "Not operator \n",
    "$$\n",
    "N \\ket 0 = \\ket 1 \\\\\n",
    "N \\ket 1 = \\ket 0 \\\\\n",
    "N = \\ket 0 \\bra 1 + \\ket 1 \\bra 0 \\\\\n",
    "= \\begin{pmatrix} 0 & 1 \\\\ 1 & 0 \\end{pmatrix}\n",
    "$$\n",
    "For Hadamard basis, $N$ is actually pauli-Z <br>$N=\\begin{pmatrix} 1 & 0 \\\\ 0 & -1 \\end{pmatrix}$ <br>\n",
    "The Hadamard gate is actually the same in both bases"
   ]
  },
  {
   "cell_type": "markdown",
   "id": "8d2050d3",
   "metadata": {},
   "source": [
    "Mirror & Beamsplitter\n",
    "$$\n",
    "U_m = X \\\\\n",
    "U_B = H \\\\\n",
    "\\textmd{phase shift } U_p = P(\\theta) = \\begin{pmatrix}e^{i\\theta} & 0 \\\\ 0 & 1 \\end{pmatrix}\n",
    "$$\n",
    "\n",
    "Input density matrix $\\rho_{\\textmd{in}} = \\ket 0 \\bra 0$\n",
    "\n",
    "$$\n",
    "\\rho_{\\textmd{out}} = U_B U_m U_p U_B \\rho_{\\textmd{in}} U_B^* U_p^* U_m^* U_B^* \\\\\n",
    "\\rho_{\\textmd{out}} = \\frac{1}{2} \\begin{pmatrix} 1 + \\cos \\alpha & i\\sin \\alpha \\\\ -i \\sin \\alpha & 1-\\cos \\alpha \\end{pmatrix}\n",
    "$$"
   ]
  },
  {
   "cell_type": "markdown",
   "id": "b12483ac",
   "metadata": {},
   "source": [
    "Asides <br>\n",
    "Landau folk lore? Well, he brought it back to the soviet union and not everything came from him, but maybe Pauli and the others. <br>\n"
   ]
  }
 ],
 "metadata": {
  "language_info": {
   "name": "python"
  }
 },
 "nbformat": 4,
 "nbformat_minor": 5
}
