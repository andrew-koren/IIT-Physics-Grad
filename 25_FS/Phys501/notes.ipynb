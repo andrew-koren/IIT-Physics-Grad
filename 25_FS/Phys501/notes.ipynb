{
 "cells": [
  {
   "cell_type": "markdown",
   "id": "e82dfdf3",
   "metadata": {},
   "source": [
    "----\n",
    "8/21/25"
   ]
  },
  {
   "cell_type": "markdown",
   "id": "52ebbf54",
   "metadata": {},
   "source": [
    "Unitaries\n",
    "\n",
    "$$\n",
    "U \\ket{x} \\\\\n",
    "\\braket{x|x} = \\|x\\|^2 \\textmd{ probability}\n",
    "\\braket{x|x} \\rightarrow \\braket{x|U^\\dag U |x}\n",
    "$$\n",
    "\n",
    "|Unitary operator|Hermetian operator|\n",
    "| --- | --- |\n",
    "|$U^\\dag U = I$ | $H^\\dag = H$|\n",
    "\n",
    "Eigenvalues are real:\n",
    "$$\n",
    "H\\ket x = E \\ket x \\\\\n",
    "\\bra x H^\\dag = \\bra x E^* \\\\\n",
    "\\braket{x | H | x} = E \\braket{x|x} \\\\\n",
    "\\braket{x | H | x} = E^* \\braket{x|x} \\\\\n",
    "0 = \\left( E-E^*\\right) \\|x\\|^2 \\\\\n",
    "\\|x\\|^2 \\neq 0 \\\\ \n",
    "E - E^* = 0\n",
    "$$\n",
    "Thus $\\boxed{E=E^*}$ and all energy eigenvalues are real. In a non-degenerate case, different energy means orthogonal eigenstates (shown on board via hermitian manipulation)."
   ]
  },
  {
   "cell_type": "markdown",
   "id": "103edef7",
   "metadata": {},
   "source": [
    "Hydrogen atom hamiltonian\n",
    "$$\n",
    "\\begin{matrix}\n",
    "\\textmd{operator} && \\textmd{quantum number} \\\\\n",
    "\\hat H = - \\frac{\\hbar^2}{2m \\nabla^2} + U(r) && n\\\\\n",
    "\\hat L^2 && (l(l+1)) \\\\\n",
    "\\hat L_z = -i\\hbar \\frac{\\partial}{\\partial \\phi} && (m) \\\\\n",
    "\\end{matrix}\n",
    "$$\n",
    "All commutators are zero, so they have a common eigenfunction basis (causes uncertainty)\n",
    "$$\n",
    "\\left[ \\hat p_i,\\hat x_k \\right]= - i \\hbar \\partial_{ik}\n",
    "$$\n",
    "\n",
    "Theorem\n",
    "$$\n",
    "\\left[ \\hat A, \\hat B \\right] = 0 \\\\ \\hat A, \\hat B \\textmd{ Hermetian} \\\\ \\textmd{must share common basis}\n",
    "$$\n",
    "\n",
    "Proof (we're in math class, after all)\n",
    "$$\n",
    "\\hat A \\ket{x_i} = a_i \\ket{x_i} \\\\\n",
    "\\hat A \\hat B \\ket{x_i} = \\hat B \\hat A \\ket{x_i} \\\\\n",
    "a_i \\hat B \\ket{x_i} = \\hat B a_i \\ket{x_i}\n",
    "$$\n",
    "Thus $\\hat B$ has the same eigenvalues or something idk, check back later\n"
   ]
  },
  {
   "cell_type": "markdown",
   "id": "91a83f74",
   "metadata": {},
   "source": [
    "Hilbert Space & Linear algebra\n",
    "$$\n",
    "H^\\dag = H \\\\\n",
    "H_{ik}^\\dag = H_{ik}^* = H_{ik} \\\\\n",
    "\\braket{y|Hx} = \\sum y^*_i H_{ik} x_k  \\\\\n",
    "= \\sum \\left( H_{ki}^{T*}y_i\\right)^* x_k = \\braket{H^\\dag y |x } \\\\\n",
    "= \\braket{Hy|x}\n",
    "$$\n",
    "Hilbert space has hermetian operators:\n",
    "$$\n",
    "\\braket{y| Hx} = \\braket{Hy|x} \\\\\n",
    "$$\n",
    "Let's find some operators, like $\\hat p = -i \\hbar \\frac{d}{dx}$\n",
    "\n",
    "$$\n",
    "% \\begin{matrix}\n",
    "\\braket{f|g} \\\\ = \n",
    "\\braket{f | \\hat p g } \\\\ = \n",
    "\\int_a^b f^* (x) \\left[ -i \\hbar \\frac{dg}{dx} \\right] dx \\\\ =\n",
    "\\int_a^b \\frac{d}{dx}\\left[f^*(x) \\left(-i \\hbar g(x) \\right) \\right] dx -\n",
    "\\int_a^b \\left(-i \\hbar \\frac{df^*(x)}{dx}\\right) g(x) dx  \\\\ = \n",
    "\\left. -i \\hbar f^* (x) g(x) \\right|_a^b + \\int_a^b \\left(-i \\hbar \\frac{df(x)}{dx}\\right)^* g(x) dx \\\\ =\n",
    "-i\\hbar \\left[ f'^{*}(b)g(b) - f'^* (a) g(a) \\right] + \\braket{\\hat p f| g}\n",
    "% \\end{matrix}\n",
    "$$"
   ]
  },
  {
   "cell_type": "markdown",
   "id": "53248458",
   "metadata": {},
   "source": [
    "What about x''? Lets do some i-by-p stuff to getour minus signs and conjugation done.\n",
    "\n",
    "$$\n",
    "\\\\  \\hat D = -\\frac{d^2}{dx^2}   \\\\\n",
    "\\begin{align*}\n",
    "      \\braket{f | Dg} &= - \\int_a^b f^* \\frac{d^2 g}{dx^2} dx \n",
    "\\\\ &=-\\int_a^b \\left[\\frac{d}{dx} \\left( f^* \\frac{dg}{dx} \\right) \n",
    "    - \\frac{df^*}{dx} \\frac{dg}{dx} \\right]dx \n",
    "\\\\ &=\\left.-f^* \\frac{dg}{dx}\\right|_{x=a}^b \n",
    "    + \\int_a^b \\left[ \\frac{d}{dx} \\left( \\frac{df^*}{dx}g \\right) \n",
    "    - \\frac{d^2 f^*}{dx^2} g \\right]dx\n",
    "\\\\ &=\\left.\\left(-f^* \\frac{dg}{dx} + \\frac{df^*}{dx}g\\right)\\right|_{x=a}^b \n",
    "    +\\int_a^b \\frac{d^2 f^*}{dx^2}gdx\n",
    "\\\\ &=\\left.\\left(-f^* \\frac{dg}{dx} + \\frac{df^*}{dx}g\\right)\\right|_{x=a}^b \n",
    "    +\\braket{Df|g}\n",
    "\\end{align*}\n",
    "$$"
   ]
  },
  {
   "cell_type": "markdown",
   "id": "1c68cb19",
   "metadata": {},
   "source": [
    "Spectrums. A basis on our hilbert space.\n",
    "\n",
    "$$\n",
    "Df = -k^2 f \\\\\n",
    "\\frac{d^2f}{dx^2} + k^2 f = 0 \\\\\n",
    "f(x) = A\\cos(kx) + B\\sin(kx) \\\\\n",
    "$$\n",
    "For the range $[-L,L]$, we solve to\n",
    "$$\n",
    "\\sin(kL)=0 \\\\\n",
    "k = \\pi n \\\\\n",
    "k = \\frac{\\pi n}{L} \\\\\n",
    "\\left\\{ 1, \\cos\\frac{\\pi nx}{L} ; \\sin{\\pi n x}{L}\\right\\}\n",
    "$$\n",
    "Turns out our hilbert space is fourier. These functions are orthogonal on the domain and decomposition can occur. Any function is a superposition of eigenfunctions.\n",
    "$$\n",
    "F(x) = \\frac{a_0}{2} + \\sum_{n=1}^\\infty \\left(a_n \\cos \\frac{\\pi n x}{L} + b_n \\sin\\frac{\\pi n x}{L}\\right) \\\\\n",
    "\\braket{f|g} = \\int_{-L}^{L} f(x)g(x) dx\n",
    "$$\n",
    "\n",
    "Broader goal: theory of differential operators. Now, we're less worried about why sine/cosine, we know these fallout of our differential equations.\n",
    "\n",
    "Next: Sturm-Liouville operator"
   ]
  },
  {
   "cell_type": "markdown",
   "id": "ce5eb08f",
   "metadata": {},
   "source": [
    "Asides <br>\n",
    "Quantum Mechanics used to be called wave mechanics, and Schrödinger died believing in real waves. They died trying to disprove the Copenhagen interpretation\n",
    "\n"
   ]
  }
 ],
 "metadata": {
  "language_info": {
   "name": "python"
  }
 },
 "nbformat": 4,
 "nbformat_minor": 5
}
