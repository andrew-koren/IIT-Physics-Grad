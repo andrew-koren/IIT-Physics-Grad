{
 "cells": [
  {
   "cell_type": "markdown",
   "id": "0f966321",
   "metadata": {},
   "source": [
    "8/20/2025\n",
    "----\n",
    "Vectors are a promise, they imply that any vector works the same way no matter the coordinate system"
   ]
  },
  {
   "cell_type": "markdown",
   "id": "8cf0a1e8",
   "metadata": {},
   "source": [
    "Coordinate rotation, opposite theta \n",
    "$$\n",
    "{\\displaystyle {\\begin{alignedat}{1}\n",
    "R_{x}(\\theta )&={\\begin{bmatrix}1&0&0\\\\0&\\cos \\theta &\\sin \\theta \\\\[3pt]0&-\\sin \\theta &\\cos \\theta \\\\[3pt]\\end{bmatrix}}\\\\[6pt]\n",
    "R_{y}(\\theta )&={\\begin{bmatrix}\\cos \\theta &0&-\\sin \\theta \\\\[3pt]0&1&0\\\\[3pt]\\sin \\theta &0&\\cos \\theta \\\\\\end{bmatrix}}\\\\[6pt]\n",
    "R_{z}(\\theta )&={\\begin{bmatrix}\\cos \\theta &\\sin \\theta &0\\\\[3pt]-\\sin \\theta &\\cos \\theta &0\\\\[3pt]0&0&1\\\\\\end{bmatrix}}\n",
    "\\end{alignedat}}}\n",
    "$$\n",
    "Fun fact! Since $\\cos(-\\theta) =\\cos(\\theta) $ and $\\sin(-\\theta) = -\\sin(\\theta)$, the transpose is the same as opposite theta.\n",
    "\n",
    "\n",
    "$\\ket{x'} = R_z\\ket{x}$ <br>\n",
    "$\\bra{x'} = \\bra{x}R_z^T$\n",
    "\n",
    "No quantum interference here, so rotation doesn't change magnitude. $\\braket{x'|x} = \\braket{x|x}$"
   ]
  },
  {
   "cell_type": "markdown",
   "id": "53ec8f9a",
   "metadata": {},
   "source": [
    "Polar coordinates\n",
    "$\n",
    "\\def\\d{d}\n",
    "\\gdef\\dh#1{\\dot{\\hat{#1}}}\n",
    "$\n",
    "\n",
    "$$\n",
    "\\hat r = \\frac{\\vec r}{r} = (\\cos \\phi , \\sin \\phi) \\\\\n",
    "\\hat \\phi = \\frac{\\d\\hat r}{\\d\\phi} = (-\\sin \\phi, \\cos \\phi) \\\\\n",
    "\\frac{\\d \\hat \\phi}{\\d t} = \\dot{\\hat{\\phi}} = \\frac{\\d \\hat \\phi}{\\d \\phi} \\frac{\\d \\phi}{\\d t} = - (\\cos \\phi, \\sin \\phi) \\dot \\phi \\\\\n",
    "= - \\hat r \\dot \\phi \\\\\n",
    "\\dh{\\phi} = -\\hat r \\dot \\phi \\\\\n",
    "\\dh{r} = \\hat \\phi \\dot \\phi\\\\\n",
    "\\vec r = r \\hat r \\\\\n",
    "\\frac{\\d r}{\\d t} = \\hat r\\frac{\\d r}{\\d t} + r\\frac{\\d \\hat r}{d t}\n",
    "\\dots\\\\\n",
    "\\vec F = m \\vec  a = m ((\\ddot r - r \\dot \\phi^2 ) \\hat r + (r \\ddot \\phi + 2 \\dot r \\dot \\phi) \\hat \\phi)\n",
    "$$"
   ]
  },
  {
   "cell_type": "markdown",
   "id": "fefe8119",
   "metadata": {},
   "source": [
    "What's the point of new coordinates? Localize/generalize. Find how to convert between coordinate systems/inertial frames, solve the problem in the simple frame, then convert back. <br>\n",
    "Inertial frames keep Newton's laws <br>\n",
    "\n",
    "Covariance between frames: $\\vec F = m \\vec a \\quad \\vec F' = m' \\vec a'$\n",
    "\n",
    "Read the first chapter of the book."
   ]
  }
 ],
 "metadata": {
  "language_info": {
   "name": "python"
  }
 },
 "nbformat": 4,
 "nbformat_minor": 5
}
